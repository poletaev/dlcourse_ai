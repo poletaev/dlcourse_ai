{
 "cells": [
  {
   "cell_type": "markdown",
   "metadata": {},
   "source": [
    "# Задание 1.2 - Линейный классификатор (Linear classifier)\n",
    "\n",
    "В этом задании мы реализуем другую модель машинного обучения - линейный классификатор. Линейный классификатор подбирает для каждого класса веса, на которые нужно умножить значение каждого признака и потом сложить вместе.\n",
    "Тот класс, у которого эта сумма больше, и является предсказанием модели.\n",
    "\n",
    "В этом задании вы:\n",
    "- потренируетесь считать градиенты различных многомерных функций\n",
    "- реализуете подсчет градиентов через линейную модель и функцию потерь softmax\n",
    "- реализуете процесс тренировки линейного классификатора\n",
    "- подберете параметры тренировки на практике\n",
    "\n",
    "На всякий случай, еще раз ссылка на туториал по numpy:  \n",
    "http://cs231n.github.io/python-numpy-tutorial/"
   ]
  },
  {
   "cell_type": "code",
   "execution_count": 1,
   "metadata": {},
   "outputs": [],
   "source": [
    "import numpy as np\n",
    "import matplotlib.pyplot as plt\n",
    "\n",
    "%matplotlib inline\n",
    "\n",
    "%load_ext autoreload\n",
    "%autoreload 2"
   ]
  },
  {
   "cell_type": "code",
   "execution_count": 2,
   "metadata": {},
   "outputs": [],
   "source": [
    "from dataset import load_svhn, random_split_train_val\n",
    "from gradient_check import check_gradient\n",
    "from metrics import multiclass_accuracy \n",
    "import linear_classifer"
   ]
  },
  {
   "cell_type": "markdown",
   "metadata": {},
   "source": [
    "# Как всегда, первым делом загружаем данные\n",
    "\n",
    "Мы будем использовать все тот же SVHN."
   ]
  },
  {
   "cell_type": "code",
   "execution_count": 3,
   "metadata": {},
   "outputs": [],
   "source": [
    "def prepare_for_linear_classifier(train_X, test_X):\n",
    "    train_flat = train_X.reshape(train_X.shape[0], -1).astype(np.float) / 255.0\n",
    "    test_flat = test_X.reshape(test_X.shape[0], -1).astype(np.float) / 255.0\n",
    "    \n",
    "    # Subtract mean\n",
    "    mean_image = np.mean(train_flat, axis = 0)\n",
    "    train_flat -= mean_image\n",
    "    test_flat -= mean_image\n",
    "    \n",
    "    # Add another channel with ones as a bias term\n",
    "    train_flat_with_ones = np.hstack([train_flat, np.ones((train_X.shape[0], 1))])\n",
    "    test_flat_with_ones = np.hstack([test_flat, np.ones((test_X.shape[0], 1))])    \n",
    "    return train_flat_with_ones, test_flat_with_ones\n",
    "    \n",
    "train_X, train_y, test_X, test_y = load_svhn(\"data\", max_train=10000, max_test=1000)    \n",
    "train_X, test_X = prepare_for_linear_classifier(train_X, test_X)\n",
    "# Split train into train and val\n",
    "train_X, train_y, val_X, val_y = random_split_train_val(train_X, train_y, num_val = 1000)"
   ]
  },
  {
   "cell_type": "code",
   "execution_count": 4,
   "metadata": {},
   "outputs": [],
   "source": [
    "train = np.ones((3, 4))"
   ]
  },
  {
   "cell_type": "code",
   "execution_count": 5,
   "metadata": {},
   "outputs": [],
   "source": [
    "test = np.ones((2, 4))"
   ]
  },
  {
   "cell_type": "code",
   "execution_count": 6,
   "metadata": {},
   "outputs": [
    {
     "data": {
      "text/plain": [
       "array([[1., 1., 1., 1.],\n",
       "       [1., 1., 1., 1.],\n",
       "       [1., 1., 1., 1.]])"
      ]
     },
     "execution_count": 6,
     "metadata": {},
     "output_type": "execute_result"
    }
   ],
   "source": [
    "train"
   ]
  },
  {
   "cell_type": "code",
   "execution_count": 7,
   "metadata": {},
   "outputs": [
    {
     "data": {
      "text/plain": [
       "array([[[1., 1., 1., 1.]],\n",
       "\n",
       "       [[1., 1., 1., 1.]],\n",
       "\n",
       "       [[1., 1., 1., 1.]]])"
      ]
     },
     "execution_count": 7,
     "metadata": {},
     "output_type": "execute_result"
    }
   ],
   "source": [
    "train[:, None]"
   ]
  },
  {
   "cell_type": "code",
   "execution_count": 8,
   "metadata": {},
   "outputs": [
    {
     "data": {
      "text/plain": [
       "(3, 1, 4)"
      ]
     },
     "execution_count": 8,
     "metadata": {},
     "output_type": "execute_result"
    }
   ],
   "source": [
    "train[:, None].shape"
   ]
  },
  {
   "cell_type": "code",
   "execution_count": 9,
   "metadata": {},
   "outputs": [
    {
     "data": {
      "text/plain": [
       "(2, 1, 4)"
      ]
     },
     "execution_count": 9,
     "metadata": {},
     "output_type": "execute_result"
    }
   ],
   "source": [
    "test[:, None].shape"
   ]
  },
  {
   "cell_type": "code",
   "execution_count": null,
   "metadata": {},
   "outputs": [],
   "source": []
  },
  {
   "cell_type": "code",
   "execution_count": 10,
   "metadata": {},
   "outputs": [
    {
     "data": {
      "text/plain": [
       "(3, 2, 4)"
      ]
     },
     "execution_count": 10,
     "metadata": {},
     "output_type": "execute_result"
    }
   ],
   "source": [
    "(train[:, None] - test).shape"
   ]
  },
  {
   "cell_type": "code",
   "execution_count": null,
   "metadata": {},
   "outputs": [],
   "source": []
  },
  {
   "cell_type": "code",
   "execution_count": null,
   "metadata": {},
   "outputs": [],
   "source": []
  },
  {
   "cell_type": "code",
   "execution_count": null,
   "metadata": {},
   "outputs": [],
   "source": []
  },
  {
   "cell_type": "markdown",
   "metadata": {},
   "source": [
    "# Играемся с градиентами!\n",
    "\n",
    "В этом курсе мы будем писать много функций, которые вычисляют градиенты аналитическим методом.\n",
    "\n",
    "Все функции, в которых мы будем вычислять градиенты, будут написаны по одной и той же схеме.  \n",
    "Они будут получать на вход точку, где нужно вычислить значение и градиент функции, а на выходе будут выдавать кортеж (tuple) из двух значений - собственно значения функции в этой точке (всегда одно число) и аналитического значения градиента в той же точке (той же размерности, что и вход).\n",
    "```\n",
    "def f(x):\n",
    "    \"\"\"\n",
    "    Computes function and analytic gradient at x\n",
    "    \n",
    "    x: np array of float, input to the function\n",
    "    \n",
    "    Returns:\n",
    "    value: float, value of the function \n",
    "    grad: np array of float, same shape as x\n",
    "    \"\"\"\n",
    "    ...\n",
    "    \n",
    "    return value, grad\n",
    "```\n",
    "\n",
    "Необходимым инструментом во время реализации кода, вычисляющего градиенты, является функция его проверки. Эта функция вычисляет градиент численным методом и сверяет результат с градиентом, вычисленным аналитическим методом.\n",
    "\n",
    "Мы начнем с того, чтобы реализовать вычисление численного градиента (numeric gradient) в функции `check_gradient` в `gradient_check.py`. Эта функция будет принимать на вход функции формата, заданного выше, использовать значение `value` для вычисления численного градиента и сравнит его с аналитическим - они должны сходиться.\n",
    "\n",
    "Напишите часть функции, которая вычисляет градиент с помощью численной производной для каждой координаты. Для вычисления производной используйте так называемую two-point formula (https://en.wikipedia.org/wiki/Numerical_differentiation):\n",
    "\n",
    "![image](https://wikimedia.org/api/rest_v1/media/math/render/svg/22fc2c0a66c63560a349604f8b6b39221566236d)\n",
    "\n",
    "Все функции приведенные в следующей клетке должны проходить gradient check."
   ]
  },
  {
   "cell_type": "code",
   "execution_count": 12,
   "metadata": {
    "scrolled": true
   },
   "outputs": [
    {
     "name": "stdout",
     "output_type": "stream",
     "text": [
      "Gradient check passed!\n",
      "Gradient check passed!\n",
      "Gradient check passed!\n"
     ]
    },
    {
     "data": {
      "text/plain": [
       "True"
      ]
     },
     "execution_count": 12,
     "metadata": {},
     "output_type": "execute_result"
    }
   ],
   "source": [
    "# TODO: Implement check_gradient function in gradient_check.py\n",
    "# All the functions below should pass the gradient check\n",
    "\n",
    "def square(x):\n",
    "    return float(x*x), 2*x\n",
    "\n",
    "check_gradient(square, np.array([3.0]))\n",
    "\n",
    "def array_sum(x):\n",
    "    assert x.shape == (2,), x.shape\n",
    "    return np.sum(x), np.ones_like(x)\n",
    "\n",
    "check_gradient(array_sum, np.array([3.0, 2.0]))\n",
    "\n",
    "def array_2d_sum(x):\n",
    "    assert x.shape == (2,2)\n",
    "    return np.sum(x), np.ones_like(x)\n",
    "\n",
    "check_gradient(array_2d_sum, np.array([[3.0, 2.0], [1.0, 0.0]]))"
   ]
  },
  {
   "cell_type": "markdown",
   "metadata": {},
   "source": [
    "## Начинаем писать свои функции, считающие аналитический градиент\n",
    "\n",
    "Теперь реализуем функцию softmax, которая получает на вход оценки для каждого класса и преобразует их в вероятности от 0 до 1:\n",
    "![image](https://wikimedia.org/api/rest_v1/media/math/render/svg/e348290cf48ddbb6e9a6ef4e39363568b67c09d3)\n",
    "\n",
    "**Важно:** Практический аспект вычисления этой функции заключается в том, что в ней учавствует вычисление экспоненты от потенциально очень больших чисел - это может привести к очень большим значениям в числителе и знаменателе за пределами диапазона float.\n",
    "\n",
    "К счастью, у этой проблемы есть простое решение -- перед вычислением softmax вычесть из всех оценок максимальное значение среди всех оценок:\n",
    "```\n",
    "predictions -= np.max(predictions)\n",
    "```\n",
    "(подробнее здесь - http://cs231n.github.io/linear-classify/#softmax, секция `Practical issues: Numeric stability`)"
   ]
  },
  {
   "cell_type": "code",
   "execution_count": 13,
   "metadata": {},
   "outputs": [
    {
     "name": "stdout",
     "output_type": "stream",
     "text": [
      "[2.06106005e-09 4.53978686e-05 9.99954600e-01]\n"
     ]
    }
   ],
   "source": [
    "# TODO Implement softmax and cross-entropy for single sample\n",
    "probs = linear_classifer.softmax(np.array([-10, 0, 10]))\n",
    "print(probs)\n",
    "\n",
    "# Make sure it works for big numbers too!\n",
    "probs = linear_classifer.softmax(np.array([1000, 0, 0]))\n",
    "assert np.isclose(probs[0], 1.0)"
   ]
  },
  {
   "cell_type": "markdown",
   "metadata": {},
   "source": [
    "Кроме этого, мы реализуем cross-entropy loss, которую мы будем использовать как функцию ошибки (error function).\n",
    "В общем виде cross-entropy определена следующим образом:\n",
    "![image](https://wikimedia.org/api/rest_v1/media/math/render/svg/0cb6da032ab424eefdca0884cd4113fe578f4293)\n",
    "\n",
    "где x - все классы, p(x) - истинная вероятность принадлежности сэмпла классу x, а q(x) - вероятность принадлежности классу x, предсказанная моделью.  \n",
    "В нашем случае сэмпл принадлежит только одному классу, индекс которого передается функции. Для него p(x) равна 1, а для остальных классов - 0. \n",
    "\n",
    "Это позволяет реализовать функцию проще!"
   ]
  },
  {
   "cell_type": "code",
   "execution_count": 15,
   "metadata": {},
   "outputs": [
    {
     "data": {
      "text/plain": [
       "5.006760443547122"
      ]
     },
     "execution_count": 15,
     "metadata": {},
     "output_type": "execute_result"
    }
   ],
   "source": [
    "probs = linear_classifer.softmax(np.array([-5, 0, 5]))\n",
    "linear_classifer.cross_entropy_loss(probs, 1)"
   ]
  },
  {
   "cell_type": "markdown",
   "metadata": {},
   "source": [
    "После того как мы реализовали сами функции, мы можем реализовать градиент.\n",
    "\n",
    "Оказывается, что вычисление градиента становится гораздо проще, если объединить эти функции в одну, которая сначала вычисляет вероятности через softmax, а потом использует их для вычисления функции ошибки через cross-entropy loss.\n",
    "\n",
    "Эта функция `softmax_with_cross_entropy` будет возвращает и значение ошибки, и градиент по входным параметрам. Мы проверим корректность реализации с помощью `check_gradient`."
   ]
  },
  {
   "cell_type": "code",
   "execution_count": 16,
   "metadata": {},
   "outputs": [
    {
     "name": "stdout",
     "output_type": "stream",
     "text": [
      "probs: [0.57611688 0.21194156 0.21194156]\n",
      "loss: 1.551444713932051\n",
      "probs: [0.57611688 0.21194156 0.21194156]\n",
      "loss: 1.551444713932051\n",
      "probs: [0.57611444 0.21194278 0.21194278]\n",
      "loss: 1.5514389527754138\n",
      "probs: [0.57611933 0.21194034 0.21194034]\n",
      "loss: 1.551450475113109\n",
      "probs: [0.57611811 0.21193989 0.21194201]\n",
      "loss: 1.5514525945248259\n",
      "probs: [0.57611566 0.21194323 0.21194111]\n",
      "loss: 1.5514368333559785\n",
      "probs: [0.57611811 0.21194201 0.21193989]\n",
      "loss: 1.551442594524826\n",
      "probs: [0.57611566 0.21194111 0.21194323]\n",
      "loss: 1.5514468333559783\n",
      "Gradient check passed!\n"
     ]
    },
    {
     "data": {
      "text/plain": [
       "True"
      ]
     },
     "execution_count": 16,
     "metadata": {},
     "output_type": "execute_result"
    }
   ],
   "source": [
    "# TODO Implement combined function or softmax and cross entropy and produces gradient\n",
    "loss, grad = linear_classifer.softmax_with_cross_entropy(np.array([1, 0, 0]), 1)\n",
    "check_gradient(lambda x: linear_classifer.softmax_with_cross_entropy(x, 1), np.array([1, 0, 0], np.float))"
   ]
  },
  {
   "cell_type": "code",
   "execution_count": 17,
   "metadata": {},
   "outputs": [
    {
     "name": "stdout",
     "output_type": "stream",
     "text": [
      "probs: [0.57611688 0.21194156 0.21194156]\n",
      "loss: 1.551444713932051\n",
      "probs: [0.57611688 0.21194156 0.21194156]\n",
      "loss: 1.551444713932051\n",
      "probs: [0.57611444 0.21194278 0.21194278]\n",
      "loss: 1.5514389527754138\n",
      "probs: [0.57611933 0.21194034 0.21194034]\n",
      "loss: 1.551450475113109\n",
      "probs: [0.57611811 0.21193989 0.21194201]\n",
      "loss: 1.5514525945248259\n",
      "probs: [0.57611566 0.21194323 0.21194111]\n",
      "loss: 1.5514368333559785\n",
      "probs: [0.57611811 0.21194201 0.21193989]\n",
      "loss: 1.551442594524826\n",
      "probs: [0.57611566 0.21194111 0.21194323]\n",
      "loss: 1.5514468333559783\n",
      "Gradient check passed!\n"
     ]
    },
    {
     "data": {
      "text/plain": [
       "True"
      ]
     },
     "execution_count": 17,
     "metadata": {},
     "output_type": "execute_result"
    }
   ],
   "source": [
    "# TODO Implement combined function or softmax and cross entropy and produces gradient\n",
    "loss, grad = linear_classifer.softmax_with_cross_entropy(np.array([1, 0, 0]), 1)\n",
    "check_gradient(lambda x: linear_classifer.softmax_with_cross_entropy(x, 1), np.array([1, 0, 0], np.float))"
   ]
  },
  {
   "cell_type": "markdown",
   "metadata": {},
   "source": [
    "В качестве метода тренировки мы будем использовать стохастический градиентный спуск (stochastic gradient descent или SGD), который работает с батчами сэмплов. \n",
    "\n",
    "Поэтому все наши фукнции будут получать не один пример, а батч, то есть входом будет не вектор из `num_classes` оценок, а матрица размерности `batch_size, num_classes`. Индекс примера в батче всегда будет первым измерением.\n",
    "\n",
    "Следующий шаг - переписать наши функции так, чтобы они поддерживали батчи.\n",
    "\n",
    "Финальное значение функции ошибки должно остаться числом, и оно равно среднему значению ошибки среди всех примеров в батче."
   ]
  },
  {
   "cell_type": "code",
   "execution_count": 20,
   "metadata": {},
   "outputs": [
    {
     "data": {
      "text/plain": [
       "(1, 4)"
      ]
     },
     "execution_count": 20,
     "metadata": {},
     "output_type": "execute_result"
    }
   ],
   "source": [
    "predictions.shape"
   ]
  },
  {
   "cell_type": "code",
   "execution_count": 21,
   "metadata": {},
   "outputs": [
    {
     "data": {
      "text/plain": [
       "(1, 1)"
      ]
     },
     "execution_count": 21,
     "metadata": {},
     "output_type": "execute_result"
    }
   ],
   "source": [
    "target_index.shape"
   ]
  },
  {
   "cell_type": "code",
   "execution_count": 22,
   "metadata": {},
   "outputs": [
    {
     "data": {
      "text/plain": [
       "2"
      ]
     },
     "execution_count": 22,
     "metadata": {},
     "output_type": "execute_result"
    }
   ],
   "source": [
    "predictions.ndim"
   ]
  },
  {
   "cell_type": "code",
   "execution_count": 25,
   "metadata": {},
   "outputs": [
    {
     "data": {
      "text/plain": [
       "array([[ 1.,  2., -1.,  1.],\n",
       "       [ 1.,  2., -1., -1.]])"
      ]
     },
     "execution_count": 25,
     "metadata": {},
     "output_type": "execute_result"
    }
   ],
   "source": [
    "predictions"
   ]
  },
  {
   "cell_type": "code",
   "execution_count": 27,
   "metadata": {},
   "outputs": [],
   "source": [
    "m = np.max(predictions, axis=1)"
   ]
  },
  {
   "cell_type": "code",
   "execution_count": 28,
   "metadata": {},
   "outputs": [
    {
     "data": {
      "text/plain": [
       "array([2., 2.])"
      ]
     },
     "execution_count": 28,
     "metadata": {},
     "output_type": "execute_result"
    }
   ],
   "source": [
    "m"
   ]
  },
  {
   "cell_type": "code",
   "execution_count": 32,
   "metadata": {},
   "outputs": [],
   "source": [
    "predictions -= m[:, None]"
   ]
  },
  {
   "cell_type": "code",
   "execution_count": 33,
   "metadata": {},
   "outputs": [
    {
     "data": {
      "text/plain": [
       "array([[-1.,  0., -3., -1.],\n",
       "       [-1.,  0., -3., -3.]])"
      ]
     },
     "execution_count": 33,
     "metadata": {},
     "output_type": "execute_result"
    }
   ],
   "source": [
    "predictions"
   ]
  },
  {
   "cell_type": "code",
   "execution_count": 34,
   "metadata": {},
   "outputs": [
    {
     "data": {
      "text/plain": [
       "array([[0.36787944, 1.        , 0.04978707, 0.36787944],\n",
       "       [0.36787944, 1.        , 0.04978707, 0.04978707]])"
      ]
     },
     "execution_count": 34,
     "metadata": {},
     "output_type": "execute_result"
    }
   ],
   "source": [
    "np.exp(predictions)"
   ]
  },
  {
   "cell_type": "code",
   "execution_count": 35,
   "metadata": {},
   "outputs": [
    {
     "data": {
      "text/plain": [
       "array([-5., -7.])"
      ]
     },
     "execution_count": 35,
     "metadata": {},
     "output_type": "execute_result"
    }
   ],
   "source": [
    "np.sum(predictions, axis=1)"
   ]
  },
  {
   "cell_type": "code",
   "execution_count": 38,
   "metadata": {},
   "outputs": [
    {
     "data": {
      "text/plain": [
       "array([[ 1.,  2., -1.,  1.],\n",
       "       [ 1.,  2., -1., -1.]])"
      ]
     },
     "execution_count": 38,
     "metadata": {},
     "output_type": "execute_result"
    }
   ],
   "source": [
    "predictions"
   ]
  },
  {
   "cell_type": "code",
   "execution_count": 39,
   "metadata": {},
   "outputs": [
    {
     "data": {
      "text/plain": [
       "array([[2],\n",
       "       [1]])"
      ]
     },
     "execution_count": 39,
     "metadata": {},
     "output_type": "execute_result"
    }
   ],
   "source": [
    "target_index"
   ]
  },
  {
   "cell_type": "code",
   "execution_count": 40,
   "metadata": {},
   "outputs": [
    {
     "ename": "IndexError",
     "evalue": "index 2 is out of bounds for axis 0 with size 2",
     "output_type": "error",
     "traceback": [
      "\u001b[0;31m---------------------------------------------------------------------------\u001b[0m",
      "\u001b[0;31mIndexError\u001b[0m                                Traceback (most recent call last)",
      "\u001b[0;32m<ipython-input-40-25fc0247abd4>\u001b[0m in \u001b[0;36m<module>\u001b[0;34m\u001b[0m\n\u001b[0;32m----> 1\u001b[0;31m \u001b[0mpredictions\u001b[0m\u001b[0;34m[\u001b[0m\u001b[0mtarget_index\u001b[0m\u001b[0;34m]\u001b[0m\u001b[0;34m\u001b[0m\u001b[0;34m\u001b[0m\u001b[0m\n\u001b[0m",
      "\u001b[0;31mIndexError\u001b[0m: index 2 is out of bounds for axis 0 with size 2"
     ]
    }
   ],
   "source": [
    "predictions[target_index]"
   ]
  },
  {
   "cell_type": "code",
   "execution_count": 42,
   "metadata": {},
   "outputs": [
    {
     "data": {
      "text/plain": [
       "array([[-1.],\n",
       "       [ 2.]])"
      ]
     },
     "execution_count": 42,
     "metadata": {},
     "output_type": "execute_result"
    }
   ],
   "source": [
    "np.take(predictions, target_index)"
   ]
  },
  {
   "cell_type": "code",
   "execution_count": 46,
   "metadata": {},
   "outputs": [
    {
     "data": {
      "text/plain": [
       "array([[2],\n",
       "       [1]])"
      ]
     },
     "execution_count": 46,
     "metadata": {},
     "output_type": "execute_result"
    }
   ],
   "source": [
    "target_index"
   ]
  },
  {
   "cell_type": "code",
   "execution_count": 47,
   "metadata": {},
   "outputs": [
    {
     "ename": "TypeError",
     "evalue": "return arrays must be of ArrayType",
     "output_type": "error",
     "traceback": [
      "\u001b[0;31m---------------------------------------------------------------------------\u001b[0m",
      "\u001b[0;31mTypeError\u001b[0m                                 Traceback (most recent call last)",
      "\u001b[0;32m<ipython-input-47-0e86a5be3d8b>\u001b[0m in \u001b[0;36m<module>\u001b[0;34m\u001b[0m\n\u001b[0;32m----> 1\u001b[0;31m \u001b[0mnp\u001b[0m\u001b[0;34m.\u001b[0m\u001b[0madd\u001b[0m\u001b[0;34m(\u001b[0m\u001b[0mpredictions\u001b[0m\u001b[0;34m,\u001b[0m \u001b[0mtarget_index\u001b[0m\u001b[0;34m,\u001b[0m \u001b[0;36m1\u001b[0m\u001b[0;34m)\u001b[0m\u001b[0;34m\u001b[0m\u001b[0;34m\u001b[0m\u001b[0m\n\u001b[0m",
      "\u001b[0;31mTypeError\u001b[0m: return arrays must be of ArrayType"
     ]
    }
   ],
   "source": [
    "np.add(predictions, target_index, 1)"
   ]
  },
  {
   "cell_type": "code",
   "execution_count": 48,
   "metadata": {},
   "outputs": [
    {
     "ename": "IndexError",
     "evalue": "index 2 is out of bounds for axis 0 with size 2",
     "output_type": "error",
     "traceback": [
      "\u001b[0;31m---------------------------------------------------------------------------\u001b[0m",
      "\u001b[0;31mIndexError\u001b[0m                                Traceback (most recent call last)",
      "\u001b[0;32m<ipython-input-48-afcdd4fab5ec>\u001b[0m in \u001b[0;36m<module>\u001b[0;34m\u001b[0m\n\u001b[0;32m----> 1\u001b[0;31m \u001b[0mnp\u001b[0m\u001b[0;34m.\u001b[0m\u001b[0madd\u001b[0m\u001b[0;34m.\u001b[0m\u001b[0mat\u001b[0m\u001b[0;34m(\u001b[0m\u001b[0mpredictions\u001b[0m\u001b[0;34m,\u001b[0m \u001b[0mtarget_index\u001b[0m\u001b[0;34m,\u001b[0m \u001b[0;36m1\u001b[0m\u001b[0;34m)\u001b[0m\u001b[0;34m\u001b[0m\u001b[0;34m\u001b[0m\u001b[0m\n\u001b[0m",
      "\u001b[0;31mIndexError\u001b[0m: index 2 is out of bounds for axis 0 with size 2"
     ]
    }
   ],
   "source": [
    "np.add.at(predictions, target_index, 1)"
   ]
  },
  {
   "cell_type": "code",
   "execution_count": 58,
   "metadata": {},
   "outputs": [
    {
     "data": {
      "text/plain": [
       "array([[ 1.,  2., -1.,  1.],\n",
       "       [ 1.,  2., -1., -1.]])"
      ]
     },
     "execution_count": 58,
     "metadata": {},
     "output_type": "execute_result"
    }
   ],
   "source": [
    "predictions"
   ]
  },
  {
   "cell_type": "code",
   "execution_count": 59,
   "metadata": {},
   "outputs": [
    {
     "data": {
      "text/plain": [
       "array([[2],\n",
       "       [1]])"
      ]
     },
     "execution_count": 59,
     "metadata": {},
     "output_type": "execute_result"
    }
   ],
   "source": [
    "target_index"
   ]
  },
  {
   "cell_type": "code",
   "execution_count": 62,
   "metadata": {},
   "outputs": [],
   "source": [
    "np.put_along_axis(predictions, target_index, 10, axis=1)"
   ]
  },
  {
   "cell_type": "code",
   "execution_count": 63,
   "metadata": {},
   "outputs": [
    {
     "data": {
      "text/plain": [
       "array([[ 1.,  2., 10.,  1.],\n",
       "       [ 1., 10., -1., -1.]])"
      ]
     },
     "execution_count": 63,
     "metadata": {},
     "output_type": "execute_result"
    }
   ],
   "source": [
    "predictions"
   ]
  },
  {
   "cell_type": "code",
   "execution_count": null,
   "metadata": {},
   "outputs": [],
   "source": []
  },
  {
   "cell_type": "code",
   "execution_count": 182,
   "metadata": {},
   "outputs": [
    {
     "name": "stdout",
     "output_type": "stream",
     "text": [
      "probs: [[0.20603191 0.56005279 0.02788339 0.20603191]]\n",
      "loss: 3.5797242232074917\n",
      "probs: [[0.20603027 0.56005395 0.02788344 0.20603233]]\n",
      "loss: 3.5797221628965787\n",
      "probs: [[0.20603355 0.56005164 0.02788333 0.20603148]]\n",
      "loss: 3.5797262835347627\n",
      "probs: [[0.20603306 0.56005033 0.02788354 0.20603306]]\n",
      "loss: 3.579718622691863\n",
      "probs: [[0.20603076 0.56005526 0.02788323 0.20603076]]\n",
      "loss: 3.5797298237477597\n",
      "probs: [[0.20603197 0.56005295 0.02788312 0.20603197]]\n",
      "loss: 3.579733944374979\n",
      "probs: [[0.20603185 0.56005264 0.02788366 0.20603185]]\n",
      "loss: 3.5797145020427146\n",
      "probs: [[0.20603233 0.56005395 0.02788344 0.20603027]]\n",
      "loss: 3.5797221628965787\n",
      "probs: [[0.20603148 0.56005164 0.02788333 0.20603355]]\n",
      "loss: 3.5797262835347627\n",
      "Gradient check passed!\n"
     ]
    },
    {
     "data": {
      "text/plain": [
       "True"
      ]
     },
     "execution_count": 182,
     "metadata": {},
     "output_type": "execute_result"
    }
   ],
   "source": [
    "# TODO Extend combined function so it can receive a 2d array with batch of samples\n",
    "np.random.seed(42)\n",
    "# Test batch_size = 1\n",
    "num_classes = 4\n",
    "batch_size = 1\n",
    "predictions = np.random.randint(-1, 3, size=(batch_size, num_classes)).astype(np.float)\n",
    "target_index = np.random.randint(0, num_classes, size=(batch_size, 1)).astype(np.int)\n",
    "check_gradient(lambda x: linear_classifer.softmax_with_cross_entropy(x, target_index), predictions)"
   ]
  },
  {
   "cell_type": "code",
   "execution_count": 190,
   "metadata": {
    "scrolled": false
   },
   "outputs": [
    {
     "name": "stdout",
     "output_type": "stream",
     "text": [
      "probs: [[0.29692274 0.29692274 0.10923177 0.29692274]\n",
      " [0.15216302 0.41362198 0.02059303 0.41362198]\n",
      " [0.3994863  0.3994863  0.1469628  0.05406459]]\n",
      "loss: 5.014661918673797\n",
      "probs: [[0.29692065 0.29692362 0.1092321  0.29692362]\n",
      " [0.15216302 0.41362198 0.02059303 0.41362198]\n",
      " [0.3994863  0.3994863  0.1469628  0.05406459]]\n",
      "loss: 5.014658949456809\n",
      "probs: [[0.29692483 0.29692186 0.10923145 0.29692186]\n",
      " [0.15216302 0.41362198 0.02059303 0.41362198]\n",
      " [0.3994863  0.3994863  0.1469628  0.05406459]]\n",
      "loss: 5.014664887911659\n",
      "probs: [[0.29692362 0.29692065 0.1092321  0.29692362]\n",
      " [0.15216302 0.41362198 0.02059303 0.41362198]\n",
      " [0.3994863  0.3994863  0.1469628  0.05406459]]\n",
      "loss: 5.014658949456809\n",
      "probs: [[0.29692186 0.29692483 0.10923145 0.29692186]\n",
      " [0.15216302 0.41362198 0.02059303 0.41362198]\n",
      " [0.3994863  0.3994863  0.1469628  0.05406459]]\n",
      "loss: 5.014664887911659\n",
      "probs: [[0.29692307 0.29692307 0.1092308  0.29692307]\n",
      " [0.15216302 0.41362198 0.02059303 0.41362198]\n",
      " [0.3994863  0.3994863  0.1469628  0.05406459]]\n",
      "loss: 5.014660826360935\n",
      "probs: [[0.29692242 0.29692242 0.10923275 0.29692242]\n",
      " [0.15216302 0.41362198 0.02059303 0.41362198]\n",
      " [0.3994863  0.3994863  0.1469628  0.05406459]]\n",
      "loss: 5.014663010996387\n",
      "probs: [[0.29692362 0.29692362 0.1092321  0.29692065]\n",
      " [0.15216302 0.41362198 0.02059303 0.41362198]\n",
      " [0.3994863  0.3994863  0.1469628  0.05406459]]\n",
      "loss: 5.0146689494568095\n",
      "probs: [[0.29692186 0.29692186 0.10923145 0.29692483]\n",
      " [0.15216302 0.41362198 0.02059303 0.41362198]\n",
      " [0.3994863  0.3994863  0.1469628  0.05406459]]\n",
      "loss: 5.014654887911659\n",
      "probs: [[0.29692274 0.29692274 0.10923177 0.29692274]\n",
      " [0.15216173 0.41362261 0.02059306 0.41362261]\n",
      " [0.3994863  0.3994863  0.1469628  0.05406459]]\n",
      "loss: 5.014660397050031\n",
      "probs: [[0.29692274 0.29692274 0.10923177 0.29692274]\n",
      " [0.15216431 0.41362135 0.02059299 0.41362135]\n",
      " [0.3994863  0.3994863  0.1469628  0.05406459]]\n",
      "loss: 5.014663440310462\n",
      "probs: [[0.29692274 0.29692274 0.10923177 0.29692274]\n",
      " [0.15216365 0.41361955 0.02059311 0.41362369]\n",
      " [0.3994863  0.3994863  0.1469628  0.05406459]]\n",
      "loss: 5.014667782466159\n",
      "probs: [[0.29692274 0.29692274 0.10923177 0.29692274]\n",
      " [0.15216239 0.4136244  0.02059294 0.41362027]\n",
      " [0.3994863  0.3994863  0.1469628  0.05406459]]\n",
      "loss: 5.0146560549056876\n",
      "probs: [[0.29692274 0.29692274 0.10923177 0.29692274]\n",
      " [0.15216305 0.41362206 0.02059282 0.41362206]\n",
      " [0.3994863  0.3994863  0.1469628  0.05406459]]\n",
      "loss: 5.014661712744548\n",
      "probs: [[0.29692274 0.29692274 0.10923177 0.29692274]\n",
      " [0.15216299 0.41362189 0.02059323 0.41362189]\n",
      " [0.3994863  0.3994863  0.1469628  0.05406459]]\n",
      "loss: 5.014662124605061\n",
      "probs: [[0.29692274 0.29692274 0.10923177 0.29692274]\n",
      " [0.15216365 0.41362369 0.02059311 0.41361955]\n",
      " [0.3994863  0.3994863  0.1469628  0.05406459]]\n",
      "loss: 5.014657782466159\n",
      "probs: [[0.29692274 0.29692274 0.10923177 0.29692274]\n",
      " [0.15216239 0.41362027 0.02059294 0.4136244 ]\n",
      " [0.3994863  0.3994863  0.1469628  0.05406459]]\n",
      "loss: 5.014666054905687\n",
      "probs: [[0.29692274 0.29692274 0.10923177 0.29692274]\n",
      " [0.15216302 0.41362198 0.02059303 0.41362198]\n",
      " [0.39948391 0.3994879  0.14696339 0.05406481]]\n",
      "loss: 5.014657923822744\n",
      "probs: [[0.29692274 0.29692274 0.10923177 0.29692274]\n",
      " [0.15216302 0.41362198 0.02059303 0.41362198]\n",
      " [0.3994887  0.39948471 0.14696221 0.05406438]]\n",
      "loss: 5.014665913548837\n",
      "probs: [[0.29692274 0.29692274 0.10923177 0.29692274]\n",
      " [0.15216302 0.41362198 0.02059303 0.41362198]\n",
      " [0.3994879  0.39948391 0.14696339 0.05406481]]\n",
      "loss: 5.014657923822744\n",
      "probs: [[0.29692274 0.29692274 0.10923177 0.29692274]\n",
      " [0.15216302 0.41362198 0.02059303 0.41362198]\n",
      " [0.39948471 0.3994887  0.14696221 0.05406438]]\n",
      "loss: 5.014665913548837\n",
      "probs: [[0.29692274 0.29692274 0.10923177 0.29692274]\n",
      " [0.15216302 0.41362198 0.02059303 0.41362198]\n",
      " [0.39948689 0.39948689 0.14696154 0.05406467]]\n",
      "loss: 5.01466044905208\n",
      "probs: [[0.29692274 0.29692274 0.10923177 0.29692274]\n",
      " [0.15216302 0.41362198 0.02059303 0.41362198]\n",
      " [0.39948572 0.39948572 0.14696405 0.05406451]]\n",
      "loss: 5.014663388308049\n",
      "probs: [[0.29692274 0.29692274 0.10923177 0.29692274]\n",
      " [0.15216302 0.41362198 0.02059303 0.41362198]\n",
      " [0.39948652 0.39948652 0.14696288 0.05406408]]\n",
      "loss: 5.014671378030432\n",
      "probs: [[0.29692274 0.29692274 0.10923177 0.29692274]\n",
      " [0.15216302 0.41362198 0.02059303 0.41362198]\n",
      " [0.39948609 0.39948609 0.14696272 0.0540651 ]]\n",
      "loss: 5.014652459322276\n",
      "Gradient check passed!\n"
     ]
    }
   ],
   "source": [
    "# Test batch_size = 3\n",
    "num_classes = 4\n",
    "batch_size = 3\n",
    "predictions = np.random.randint(-1, 3, size=(batch_size, num_classes)).astype(np.float)\n",
    "target_index = np.random.randint(0, num_classes, size=(batch_size, 1)).astype(np.int)\n",
    "check_gradient(lambda x: linear_classifer.softmax_with_cross_entropy(x, target_index), predictions)\n",
    "\n",
    "# Make sure maximum subtraction for numberic stability is done separately for every sample in the batch\n",
    "probs = linear_classifer.softmax(np.array([[20,0,0], [1000, 0, 0]]))\n",
    "assert np.all(np.isclose(probs[:, 0], 1.0))"
   ]
  },
  {
   "cell_type": "markdown",
   "metadata": {},
   "source": [
    "### Наконец, реализуем сам линейный классификатор!\n",
    "\n",
    "softmax и cross-entropy получают на вход оценки, которые выдает линейный классификатор.\n",
    "\n",
    "Он делает это очень просто: для каждого класса есть набор весов, на которые надо умножить пиксели картинки и сложить. Получившееся число и является оценкой класса, идущей на вход softmax.\n",
    "\n",
    "Таким образом, линейный классификатор можно представить как умножение вектора с пикселями на матрицу W размера `num_features, num_classes`. Такой подход легко расширяется на случай батча векторов с пикселями X размера `batch_size, num_features`:\n",
    "\n",
    "`predictions = X * W`, где `*` - матричное умножение.\n",
    "\n",
    "Реализуйте функцию подсчета линейного классификатора и градиентов по весам `linear_softmax` в файле `linear_classifer.py`"
   ]
  },
  {
   "cell_type": "code",
   "execution_count": 195,
   "metadata": {},
   "outputs": [
    {
     "name": "stdout",
     "output_type": "stream",
     "text": [
      "probs: [[0.88079708 0.11920292]\n",
      " [0.04742587 0.95257413]]\n",
      "loss: 2.1755153626167147\n",
      "probs: [[0.88079708 0.11920292]\n",
      " [0.04742587 0.95257413]]\n",
      "loss: 2.1755153626167147\n",
      "probs: [[0.88079813 0.11920187]\n",
      " [0.04742587 0.95257413]]\n",
      "loss: 2.175524170592744\n",
      "probs: [[0.88079603 0.11920397]\n",
      " [0.04742587 0.95257413]]\n",
      "loss: 2.1755065546511845\n",
      "probs: [[0.88079603 0.11920397]\n",
      " [0.04742587 0.95257413]]\n",
      "loss: 2.1755065546511845\n",
      "probs: [[0.88079813 0.11920187]\n",
      " [0.04742587 0.95257413]]\n",
      "loss: 2.175524170592744\n",
      "probs: [[0.88079813 0.11920187]\n",
      " [0.04742542 0.95257458]]\n",
      "loss: 2.1755236963362714\n",
      "probs: [[0.88079603 0.11920397]\n",
      " [0.04742632 0.95257368]]\n",
      "loss: 2.175507028912175\n",
      "probs: [[0.88079603 0.11920397]\n",
      " [0.04742632 0.95257368]]\n",
      "loss: 2.175507028912175\n",
      "probs: [[0.88079813 0.11920187]\n",
      " [0.04742542 0.95257458]]\n",
      "loss: 2.1755236963362714\n",
      "probs: [[0.88079603 0.11920397]\n",
      " [0.04742542 0.95257458]]\n",
      "loss: 2.1755060803947117\n",
      "probs: [[0.88079813 0.11920187]\n",
      " [0.04742632 0.95257368]]\n",
      "loss: 2.1755246448537346\n",
      "probs: [[0.88079813 0.11920187]\n",
      " [0.04742632 0.95257368]]\n",
      "loss: 2.1755246448537346\n",
      "probs: [[0.88079603 0.11920397]\n",
      " [0.04742542 0.95257458]]\n",
      "loss: 2.1755060803947117\n",
      "Gradient check passed!\n"
     ]
    },
    {
     "data": {
      "text/plain": [
       "True"
      ]
     },
     "execution_count": 195,
     "metadata": {},
     "output_type": "execute_result"
    }
   ],
   "source": [
    "# TODO Implement linear_softmax function that uses softmax with cross-entropy for linear classifier\n",
    "batch_size = 2\n",
    "num_classes = 2\n",
    "num_features = 3\n",
    "np.random.seed(42)\n",
    "W = np.random.randint(-1, 3, size=(num_features, num_classes)).astype(np.float)\n",
    "X = np.random.randint(-1, 3, size=(batch_size, num_features)).astype(np.float)\n",
    "target_index = np.ones(batch_size, dtype=np.int)\n",
    "\n",
    "loss, dW = linear_classifer.linear_softmax(X, W, target_index)\n",
    "check_gradient(lambda w: linear_classifer.linear_softmax(X, w, target_index), W)"
   ]
  },
  {
   "cell_type": "markdown",
   "metadata": {},
   "source": [
    "### И теперь регуляризация\n",
    "\n",
    "Мы будем использовать L2 regularization для весов как часть общей функции ошибки.\n",
    "\n",
    "Напомним, L2 regularization определяется как\n",
    "\n",
    "l2_reg_loss = regularization_strength * sum<sub>ij</sub> W[i, j]<sup>2</sup>\n",
    "\n",
    "Реализуйте функцию для его вычисления и вычисления соотвествующих градиентов."
   ]
  },
  {
   "cell_type": "code",
   "execution_count": 196,
   "metadata": {},
   "outputs": [
    {
     "name": "stdout",
     "output_type": "stream",
     "text": [
      "Gradient check passed!\n"
     ]
    },
    {
     "data": {
      "text/plain": [
       "True"
      ]
     },
     "execution_count": 196,
     "metadata": {},
     "output_type": "execute_result"
    }
   ],
   "source": [
    "# TODO Implement l2_regularization function that implements loss for L2 regularization\n",
    "linear_classifer.l2_regularization(W, 0.01)\n",
    "check_gradient(lambda w: linear_classifer.l2_regularization(w, 0.01), W)"
   ]
  },
  {
   "cell_type": "markdown",
   "metadata": {},
   "source": [
    "# Тренировка!"
   ]
  },
  {
   "cell_type": "markdown",
   "metadata": {},
   "source": [
    "Градиенты в порядке, реализуем процесс тренировки!"
   ]
  },
  {
   "cell_type": "code",
   "execution_count": 237,
   "metadata": {
    "scrolled": false
   },
   "outputs": [
    {
     "name": "stdout",
     "output_type": "stream",
     "text": [
      "Epoch 0, loss: 135.051445\n",
      "Epoch 1, loss: 244.647198\n",
      "Epoch 2, loss: 321.125156\n",
      "Epoch 3, loss: 353.861300\n",
      "Epoch 4, loss: 378.770278\n",
      "Epoch 5, loss: 414.726590\n",
      "Epoch 6, loss: 436.794349\n",
      "Epoch 7, loss: 445.463482\n",
      "Epoch 8, loss: 402.386398\n",
      "Epoch 9, loss: 405.338735\n"
     ]
    }
   ],
   "source": [
    "# TODO: Implement LinearSoftmaxClassifier.fit function\n",
    "classifier = linear_classifer.LinearSoftmaxClassifier()\n",
    "loss_history = classifier.fit(train_X, train_y, epochs=10, learning_rate=1e-3, batch_size=300, reg=1e1)"
   ]
  },
  {
   "cell_type": "code",
   "execution_count": 238,
   "metadata": {},
   "outputs": [
    {
     "data": {
      "text/plain": [
       "[<matplotlib.lines.Line2D at 0x11c874710>]"
      ]
     },
     "execution_count": 238,
     "metadata": {},
     "output_type": "execute_result"
    },
    {
     "data": {
      "image/png": "[encoded data removed]",
      "text/plain": [
       "<Figure size 432x288 with 1 Axes>"
      ]
     },
     "metadata": {
      "needs_background": "light"
     },
     "output_type": "display_data"
    }
   ],
   "source": [
    "# let's look at the loss history!\n",
    "plt.plot(loss_history)"
   ]
  },
  {
   "cell_type": "code",
   "execution_count": 239,
   "metadata": {},
   "outputs": [
    {
     "name": "stdout",
     "output_type": "stream",
     "text": [
      "Accuracy:  0.162\n",
      "Epoch 0, loss: 383.833143\n",
      "Epoch 1, loss: 417.010872\n",
      "Epoch 2, loss: 413.329045\n",
      "Epoch 3, loss: 398.723558\n",
      "Epoch 4, loss: 412.163163\n",
      "Accuracy after training for 100 epochs:  0.181\n"
     ]
    }
   ],
   "source": [
    "# Let's check how it performs on validation set\n",
    "pred = classifier.predict(val_X)\n",
    "accuracy = multiclass_accuracy(pred, val_y)\n",
    "print(\"Accuracy: \", accuracy)\n",
    "\n",
    "# Now, let's train more and see if it performs better\n",
    "classifier.fit(train_X, train_y, epochs=5, learning_rate=1e-3, batch_size=300, reg=1e1)\n",
    "pred = classifier.predict(val_X)\n",
    "accuracy = multiclass_accuracy(pred, val_y)\n",
    "print(\"Accuracy after training for 100 epochs: \", accuracy)"
   ]
  },
  {
   "cell_type": "markdown",
   "metadata": {},
   "source": [
    "### Как и раньше, используем кросс-валидацию для подбора гиперпараметтов.\n",
    "\n",
    "В этот раз, чтобы тренировка занимала разумное время, мы будем использовать только одно разделение на тренировочные (training) и проверочные (validation) данные.\n",
    "\n",
    "Теперь нам нужно подобрать не один, а два гиперпараметра! Не ограничивайте себя изначальными значениями в коде.  \n",
    "Добейтесь точности более чем **20%** на проверочных данных (validation data)."
   ]
  },
  {
   "cell_type": "code",
   "execution_count": 240,
   "metadata": {},
   "outputs": [
    {
     "name": "stdout",
     "output_type": "stream",
     "text": [
      "Epoch 0, loss: 0.005366\n",
      "Epoch 1, loss: 0.009406\n",
      "Epoch 2, loss: 0.013020\n",
      "Epoch 3, loss: 0.017112\n",
      "Epoch 4, loss: 0.020882\n",
      "Epoch 5, loss: 0.025208\n",
      "Epoch 6, loss: 0.029114\n",
      "Epoch 7, loss: 0.033027\n",
      "Epoch 8, loss: 0.036992\n",
      "Epoch 9, loss: 0.040525\n",
      "Epoch 10, loss: 0.044195\n",
      "Epoch 11, loss: 0.047355\n",
      "Epoch 12, loss: 0.050740\n",
      "Epoch 13, loss: 0.054748\n",
      "Epoch 14, loss: 0.058532\n",
      "Epoch 15, loss: 0.062225\n",
      "Epoch 16, loss: 0.066230\n",
      "Epoch 17, loss: 0.069458\n",
      "Epoch 18, loss: 0.073147\n",
      "Epoch 19, loss: 0.077460\n",
      "Epoch 0, loss: 0.008035\n",
      "Epoch 1, loss: 0.008397\n",
      "Epoch 2, loss: 0.008824\n",
      "Epoch 3, loss: 0.009187\n",
      "Epoch 4, loss: 0.009630\n",
      "Epoch 5, loss: 0.010048\n",
      "Epoch 6, loss: 0.010448\n",
      "Epoch 7, loss: 0.010840\n",
      "Epoch 8, loss: 0.011278\n",
      "Epoch 9, loss: 0.011738\n",
      "Epoch 10, loss: 0.012111\n",
      "Epoch 11, loss: 0.012530\n",
      "Epoch 12, loss: 0.012923\n",
      "Epoch 13, loss: 0.013314\n",
      "Epoch 14, loss: 0.013722\n",
      "Epoch 15, loss: 0.014203\n",
      "Epoch 16, loss: 0.014589\n",
      "Epoch 17, loss: 0.015075\n",
      "Epoch 18, loss: 0.015413\n",
      "Epoch 19, loss: 0.015782\n",
      "Epoch 0, loss: 0.001627\n",
      "Epoch 1, loss: 0.001673\n",
      "Epoch 2, loss: 0.001720\n",
      "Epoch 3, loss: 0.001762\n",
      "Epoch 4, loss: 0.001813\n",
      "Epoch 5, loss: 0.001853\n",
      "Epoch 6, loss: 0.001899\n",
      "Epoch 7, loss: 0.001946\n",
      "Epoch 8, loss: 0.001996\n",
      "Epoch 9, loss: 0.002039\n",
      "Epoch 10, loss: 0.002082\n",
      "Epoch 11, loss: 0.002127\n",
      "Epoch 12, loss: 0.002176\n",
      "Epoch 13, loss: 0.002227\n",
      "Epoch 14, loss: 0.002267\n",
      "Epoch 15, loss: 0.002310\n",
      "Epoch 16, loss: 0.002357\n",
      "Epoch 17, loss: 0.002409\n",
      "Epoch 18, loss: 0.002451\n",
      "Epoch 19, loss: 0.002491\n",
      "Epoch 0, loss: 0.250931\n",
      "Epoch 1, loss: 0.251067\n",
      "Epoch 2, loss: 0.251292\n",
      "Epoch 3, loss: 0.251545\n",
      "Epoch 4, loss: 0.251825\n",
      "Epoch 5, loss: 0.252069\n",
      "Epoch 6, loss: 0.252328\n",
      "Epoch 7, loss: 0.252586\n",
      "Epoch 8, loss: 0.252848\n",
      "Epoch 9, loss: 0.253135\n",
      "Epoch 10, loss: 0.253388\n",
      "Epoch 11, loss: 0.253645\n",
      "Epoch 12, loss: 0.253897\n",
      "Epoch 13, loss: 0.254175\n",
      "Epoch 14, loss: 0.254428\n",
      "Epoch 15, loss: 0.254677\n",
      "Epoch 16, loss: 0.254928\n",
      "Epoch 17, loss: 0.255196\n",
      "Epoch 18, loss: 0.255438\n",
      "Epoch 19, loss: 0.255681\n",
      "Epoch 0, loss: 0.025592\n",
      "Epoch 1, loss: 0.025616\n",
      "Epoch 2, loss: 0.025645\n",
      "Epoch 3, loss: 0.025671\n",
      "Epoch 4, loss: 0.025693\n",
      "Epoch 5, loss: 0.025720\n",
      "Epoch 6, loss: 0.025746\n",
      "Epoch 7, loss: 0.025772\n",
      "Epoch 8, loss: 0.025799\n",
      "Epoch 9, loss: 0.025823\n",
      "Epoch 10, loss: 0.025850\n",
      "Epoch 11, loss: 0.025877\n",
      "Epoch 12, loss: 0.025901\n",
      "Epoch 13, loss: 0.025928\n",
      "Epoch 14, loss: 0.025955\n",
      "Epoch 15, loss: 0.025980\n",
      "Epoch 16, loss: 0.026009\n",
      "Epoch 17, loss: 0.026035\n",
      "Epoch 18, loss: 0.026063\n",
      "Epoch 19, loss: 0.026089\n",
      "Epoch 0, loss: 0.002612\n",
      "Epoch 1, loss: 0.002615\n",
      "Epoch 2, loss: 0.002617\n",
      "Epoch 3, loss: 0.002620\n",
      "Epoch 4, loss: 0.002623\n",
      "Epoch 5, loss: 0.002626\n",
      "Epoch 6, loss: 0.002628\n",
      "Epoch 7, loss: 0.002631\n",
      "Epoch 8, loss: 0.002634\n",
      "Epoch 9, loss: 0.002637\n",
      "Epoch 10, loss: 0.002640\n",
      "Epoch 11, loss: 0.002643\n",
      "Epoch 12, loss: 0.002646\n",
      "Epoch 13, loss: 0.002649\n",
      "Epoch 14, loss: 0.002652\n",
      "Epoch 15, loss: 0.002655\n",
      "Epoch 16, loss: 0.002658\n",
      "Epoch 17, loss: 0.002661\n",
      "Epoch 18, loss: 0.002664\n",
      "Epoch 19, loss: 0.002667\n",
      "Epoch 0, loss: 0.266868\n",
      "Epoch 1, loss: 0.266897\n",
      "Epoch 2, loss: 0.266927\n",
      "Epoch 3, loss: 0.266957\n",
      "Epoch 4, loss: 0.266989\n",
      "Epoch 5, loss: 0.267017\n",
      "Epoch 6, loss: 0.267046\n",
      "Epoch 7, loss: 0.267078\n",
      "Epoch 8, loss: 0.267106\n",
      "Epoch 9, loss: 0.267139\n",
      "Epoch 10, loss: 0.267169\n",
      "Epoch 11, loss: 0.267198\n",
      "Epoch 12, loss: 0.267228\n",
      "Epoch 13, loss: 0.267260\n",
      "Epoch 14, loss: 0.267289\n",
      "Epoch 15, loss: 0.267321\n",
      "Epoch 16, loss: 0.267350\n",
      "Epoch 17, loss: 0.267382\n",
      "Epoch 18, loss: 0.267411\n",
      "Epoch 19, loss: 0.267442\n",
      "Epoch 0, loss: 0.026747\n",
      "Epoch 1, loss: 0.026750\n",
      "Epoch 2, loss: 0.026753\n",
      "Epoch 3, loss: 0.026756\n",
      "Epoch 4, loss: 0.026759\n",
      "Epoch 5, loss: 0.026762\n",
      "Epoch 6, loss: 0.026766\n",
      "Epoch 7, loss: 0.026769\n",
      "Epoch 8, loss: 0.026772\n",
      "Epoch 9, loss: 0.026775\n",
      "Epoch 10, loss: 0.026778\n",
      "Epoch 11, loss: 0.026781\n",
      "Epoch 12, loss: 0.026784\n",
      "Epoch 13, loss: 0.026787\n",
      "Epoch 14, loss: 0.026790\n",
      "Epoch 15, loss: 0.026793\n",
      "Epoch 16, loss: 0.026796\n",
      "Epoch 17, loss: 0.026799\n",
      "Epoch 18, loss: 0.026802\n",
      "Epoch 19, loss: 0.026805\n",
      "Epoch 0, loss: 0.002681\n",
      "Epoch 1, loss: 0.002681\n",
      "Epoch 2, loss: 0.002681\n",
      "Epoch 3, loss: 0.002682\n",
      "Epoch 4, loss: 0.002682\n",
      "Epoch 5, loss: 0.002682\n",
      "Epoch 6, loss: 0.002683\n",
      "Epoch 7, loss: 0.002683\n",
      "Epoch 8, loss: 0.002683\n",
      "Epoch 9, loss: 0.002684\n",
      "Epoch 10, loss: 0.002684\n",
      "Epoch 11, loss: 0.002684\n",
      "Epoch 12, loss: 0.002685\n",
      "Epoch 13, loss: 0.002685\n",
      "Epoch 14, loss: 0.002685\n",
      "Epoch 15, loss: 0.002685\n",
      "Epoch 16, loss: 0.002686\n",
      "Epoch 17, loss: 0.002686\n",
      "Epoch 18, loss: 0.002686\n",
      "Epoch 19, loss: 0.002687\n",
      "best validation accuracy achieved: 0.257000\n",
      "CPU times: user 1min 34s, sys: 7.85 s, total: 1min 42s\n",
      "Wall time: 58.4 s\n"
     ]
    }
   ],
   "source": [
    "%%time\n",
    "from itertools import product\n",
    "\n",
    "num_epochs = 20 #200\n",
    "batch_size = 300\n",
    "\n",
    "learning_rates = [1e-3, 1e-4, 1e-5]\n",
    "reg_strengths = [1e-4, 1e-5, 1e-6]\n",
    "\n",
    "best_classifier = None\n",
    "best_val_accuracy = 0\n",
    "\n",
    "for learning_rate, reg_strength in product(learning_rates, reg_strengths):\n",
    "    classifier.fit(train_X, train_y, \n",
    "                   epochs=num_epochs, \n",
    "                   learning_rate=learning_rate, \n",
    "                   batch_size=batch_size, \n",
    "                   reg=reg_strength)\n",
    "    \n",
    "    pred = classifier.predict(val_X)\n",
    "    accuracy = multiclass_accuracy(pred, val_y)\n",
    "    \n",
    "    if accuracy > best_val_accuracy:\n",
    "        best_classifier = classifier\n",
    "        best_val_accuracy = accuracy\n",
    "\n",
    "print('best validation accuracy achieved: %f' % best_val_accuracy)"
   ]
  },
  {
   "cell_type": "markdown",
   "metadata": {},
   "source": [
    "# Какой же точности мы добились на тестовых данных?"
   ]
  },
  {
   "cell_type": "code",
   "execution_count": 241,
   "metadata": {},
   "outputs": [
    {
     "name": "stdout",
     "output_type": "stream",
     "text": [
      "Linear softmax classifier test set accuracy: 0.205000\n"
     ]
    }
   ],
   "source": [
    "test_pred = best_classifier.predict(test_X)\n",
    "test_accuracy = multiclass_accuracy(test_pred, test_y)\n",
    "print('Linear softmax classifier test set accuracy: %f' % (test_accuracy, ))"
   ]
  },
  {
   "cell_type": "code",
   "execution_count": null,
   "metadata": {},
   "outputs": [],
   "source": []
  }
 ],
 "metadata": {
  "kernelspec": {
   "display_name": "Python 3",
   "language": "python",
   "name": "python3"
  },
  "language_info": {
   "codemirror_mode": {
    "name": "ipython",
    "version": 3
   },
   "file_extension": ".py",
   "mimetype": "text/x-python",
   "name": "python",
   "nbconvert_exporter": "python",
   "pygments_lexer": "ipython3",
   "version": "3.6.9"
  }
 },
 "nbformat": 4,
 "nbformat_minor": 2
}
